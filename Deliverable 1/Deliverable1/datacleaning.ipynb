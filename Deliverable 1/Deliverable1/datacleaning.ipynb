{
 "cells": [
  {
   "cell_type": "markdown",
   "metadata": {},
   "source": [
    "We first ran through the entire COVID-data_Massachusetts-vaccines dataset, copying over relevant data, i.e., data cities for Newton, Chelsea, Wellesley, and Revere for all sheets."
   ]
  },
  {
   "cell_type": "markdown",
   "metadata": {},
   "source": [
    "We found that many of the the data points were missing totals, or missing values. For instance Wellesley here was missing Fully Vaccinated information for 0-19, and total. Because it was one of the earlier dates, we looked through the other points as well and found missing values for similar data points (same date etc.). Therefore we ran through and put 0 for the 0-19 as it was too early for people of that age to be vaccinated, and summed up values for total. The early datapoints are also missing booster information but that being said - the booster is not out for earlier data points. Therefore we left those points empty with NaN values.\n",
    "\n",
    "![Wellesley3/9](wellesleyexample.png)\n"
   ]
  },
  {
   "cell_type": "markdown",
   "metadata": {},
   "source": [
    "For the Partially vaccinated values, many of those were also missing. We looked through the data points that are not missing and saw that the present data points were equivalent to one dose - fully vaccinated and therefore we filled out all of those data points accordingly for all sheets. \n",
    "\n",
    "![partiallyvaccinated](partiallyvaccinated.png)\n"
   ]
  },
  {
   "cell_type": "markdown",
   "metadata": {},
   "source": [
    "For racial data, we found that lower population demographics were missing all data. As it is hard to give an estimate to how many people have gotten vaccinated in a group that has an N around 50, we set those values to 0. The partially vaccinated values were also missing and as stated above we did the same thing to fill them out.\n",
    "\n",
    "![racialvalues](missingracialvalues.png)\n"
   ]
  },
  {
   "cell_type": "markdown",
   "metadata": {},
   "source": [
    "There was one data point that seemed strange. In the County/City Age, the partially_vaccinated data of Wellesley city for 2021/07/06 seems to be shifted up by one row, so we need to shift them down by one row.\n",
    "\n",
    "![preshifted](preshifted.png)\n"
   ]
  },
  {
   "cell_type": "markdown",
   "metadata": {},
   "source": [
    "The partially vaccinated values were shifted up we extrapolated from the fact that 1222 is much greater than NH/PI population of 9 and seemed to be calculated with white demographic data.\n",
    "\n",
    "![postshift](postshifted.png)\n",
    "\n",
    "As such, we shifted to what it seemed like it should've been and filled out the rest of the data. After this change, the partially vaccinated data seemed more aligned, as 37 = 348 - 311 or that 221 = 2346-2125"
   ]
  },
  {
   "cell_type": "markdown",
   "metadata": {},
   "source": []
  }
 ],
 "metadata": {
  "kernelspec": {
   "display_name": "Python 3.9.13 64-bit",
   "language": "python",
   "name": "python3"
  },
  "language_info": {
   "name": "python",
   "version": "3.9.13"
  },
  "orig_nbformat": 4,
  "vscode": {
   "interpreter": {
    "hash": "aee8b7b246df8f9039afb4144a1f6fd8d2ca17a180786b69acc140d282b71a49"
   }
  }
 },
 "nbformat": 4,
 "nbformat_minor": 2
}
